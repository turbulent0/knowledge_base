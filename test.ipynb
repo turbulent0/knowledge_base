{
 "cells": [
  {
   "attachments": {},
   "cell_type": "markdown",
   "metadata": {},
   "source": [
    "### Calc\n",
    "\n"
   ]
  },
  {
   "cell_type": "code",
   "execution_count": 2,
   "metadata": {},
   "outputs": [],
   "source": [
    "import asyncio\n",
    "import concurrent.futures\n",
    "def blocking_io():\n",
    "    # File operations (such as logging) can block the\n",
    "    # event loop: run them in a thread pool.\n",
    "    with open('/dev/urandom', 'rb') as f:\n",
    "        return f.read(100)\n",
    "\n",
    "def cpu_bound():\n",
    "    # CPU-bound operations will block the event loop:\n",
    "    # in general it is preferable to run them in a\n",
    "    # process pool.\n",
    "    return sum(i * i for i in range(10 ** 7))"
   ]
  },
  {
   "cell_type": "code",
   "execution_count": 4,
   "metadata": {},
   "outputs": [
    {
     "name": "stdout",
     "output_type": "stream",
     "text": [
      "test\n"
     ]
    },
    {
     "name": "stdout",
     "output_type": "stream",
     "text": [
      "Future: <Future finished result='... world'>\n"
     ]
    }
   ],
   "source": [
    "import functools\n",
    "async def callee(fut, word):\n",
    "    await asyncio.sleep(4)\n",
    "    fut.set_result(word)\n",
    "\n",
    "async def caller():\n",
    "    loop = asyncio.get_running_loop()\n",
    "    # Create a new Future object.\n",
    "    fut = loop.create_future()\n",
    "    loop.create_task(callee(fut, '... world'))\n",
    "    fut.add_done_callback(functools.partial(print, \"Future:\"))\n",
    "    print('test')\n",
    "\n",
    "await caller() # for jupyter notebook, becouse loop is already running in jupyter\n",
    "# asyncio.run(main()) # for py file"
   ]
  },
  {
   "cell_type": "code",
   "execution_count": 6,
   "metadata": {},
   "outputs": [
    {
     "ename": "TypeError",
     "evalue": "an integer is required (got type str)",
     "output_type": "error",
     "traceback": [
      "\u001b[0;31m---------------------------------------------------------------------------\u001b[0m",
      "\u001b[0;31mTypeError\u001b[0m                                 Traceback (most recent call last)",
      "\u001b[1;32m/Users/maxymusenko/ML/courses/knowledge_base/test.ipynb Cell 4\u001b[0m in \u001b[0;36m<cell line: 1>\u001b[0;34m()\u001b[0m\n\u001b[0;32m----> <a href='vscode-notebook-cell:/Users/maxymusenko/ML/courses/knowledge_base/test.ipynb#X11sZmlsZQ%3D%3D?line=0'>1</a>\u001b[0m \u001b[39mchr\u001b[39;49m(\u001b[39m'\u001b[39;49m\u001b[39m253\u001b[39;49m\u001b[39m'\u001b[39;49m)\n",
      "\u001b[0;31mTypeError\u001b[0m: an integer is required (got type str)"
     ]
    }
   ],
   "source": [
    "chr('253')"
   ]
  },
  {
   "cell_type": "code",
   "execution_count": 8,
   "metadata": {},
   "outputs": [
    {
     "data": {
      "text/plain": [
       "[[7, 5, 11, 2], [10, 6, 9, 1], [4, 8, 3, 15]]"
      ]
     },
     "execution_count": 8,
     "metadata": {},
     "output_type": "execute_result"
    }
   ],
   "source": [
    "l = [[10,6,9,1],[7,5,11,2],[4,8,3,15]]\n",
    "sorted(l, key=lambda x: x[2], reverse=True)"
   ]
  },
  {
   "cell_type": "code",
   "execution_count": 9,
   "metadata": {},
   "outputs": [],
   "source": [
    "class RealString:\n",
    "    def __init__(self, some_str):\n",
    "        self.some_str = str(some_str)\n",
    "\n",
    "    def __eq__(self, other):\n",
    "        if not isinstance(other, RealString):\n",
    "            other = RealString(other)\n",
    "        return len(self.some_str) == len(other.some_str)\n",
    "\n",
    "    def __lt__(self, other):\n",
    "        if not isinstance(other, RealString):\n",
    "            other = RealString(other)\n",
    "        return len(self.some_str) < len(other.some_str)\n",
    "\n",
    "    def __le__(self, other):\n",
    "        return len(self.some_str) == len(other.some_str) or len(self.some_str) < len(other.some_str)\n"
   ]
  },
  {
   "cell_type": "code",
   "execution_count": 3,
   "metadata": {},
   "outputs": [
    {
     "data": {
      "text/plain": [
       "23"
      ]
     },
     "execution_count": 3,
     "metadata": {},
     "output_type": "execute_result"
    }
   ],
   "source": [
    "int('0023')"
   ]
  },
  {
   "cell_type": "code",
   "execution_count": 5,
   "metadata": {},
   "outputs": [
    {
     "data": {
      "text/plain": [
       "'003'"
      ]
     },
     "execution_count": 5,
     "metadata": {},
     "output_type": "execute_result"
    }
   ],
   "source": [
    "str(993).replace('9', '0')"
   ]
  },
  {
   "cell_type": "code",
   "execution_count": 15,
   "metadata": {},
   "outputs": [],
   "source": [
    "class Solution(object):\n",
    "    def find_num(self, d, str_num):\n",
    "        for i, n in enumerate(str_num):\n",
    "            if n != d and not max_n:\n",
    "                max_n = str_num[i]\n",
    "            if n == max_n:\n",
    "                str_num[i] = d\n",
    "        return str_num    \n",
    "        \n",
    "    def minMaxDifference(self, num):\n",
    "        \"\"\"\n",
    "        :type num: int\n",
    "        :rtype: int\n",
    "        \"\"\"\n",
    "        max_n = None\n",
    "        min_n = None\n",
    "        str_num_max  = list(str(num))\n",
    "        str_num_min = list(str(num))\n",
    "        for i, n in enumerate(str_num_max):\n",
    "            if n != '9' and not max_n:\n",
    "                max_n = str_num_max[i]\n",
    "            if n == max_n:\n",
    "                str_num_max[i] = '9'\n",
    "            if n != '0' and not min_n:\n",
    "                min_n = str_num_min[i]\n",
    "            if n == min_n:\n",
    "                str_num_min[i] = '0'            \n",
    "        \n",
    "        return int(''.join(str_num_max)) - int(''.join(str_num_min))"
   ]
  },
  {
   "cell_type": "code",
   "execution_count": 18,
   "metadata": {},
   "outputs": [
    {
     "data": {
      "text/plain": [
       "[1, 2, 4]"
      ]
     },
     "execution_count": 18,
     "metadata": {},
     "output_type": "execute_result"
    }
   ],
   "source": [
    "sorted([1,2,4])"
   ]
  },
  {
   "cell_type": "code",
   "execution_count": 19,
   "metadata": {},
   "outputs": [
    {
     "data": {
      "text/plain": [
       "4"
      ]
     },
     "execution_count": 19,
     "metadata": {},
     "output_type": "execute_result"
    }
   ],
   "source": [
    "max(2,3,4)"
   ]
  },
  {
   "cell_type": "code",
   "execution_count": 91,
   "metadata": {},
   "outputs": [
    {
     "data": {
      "text/plain": [
       "[40, 60, 23, 83, 5, 21, 76, 34, 99]"
      ]
     },
     "execution_count": 91,
     "metadata": {},
     "output_type": "execute_result"
    }
   ],
   "source": [
    "[ j for i, j in enumerate(nums) if j not in nums[i+1:]]"
   ]
  },
  {
   "cell_type": "code",
   "execution_count": 87,
   "metadata": {},
   "outputs": [],
   "source": [
    "\n",
    "nums = [40,60,23,99,83,5,21,76,34,99]\n",
    "\n",
    "def minimizeSum(nums):\n",
    "    nums_sorted = sorted(nums[2:-2])  \n",
    "    print(nums_sorted) \n",
    "    if len(nums_sorted) >= 4:\n",
    "        return min(max(nums_sorted[-1], nums[1], nums[-2]) - min(nums_sorted[0], nums[1], nums[-2]), \n",
    "                   max(nums_sorted[-1], nums[0], nums[1]) - min(nums_sorted[0], nums[0], nums[1]),\n",
    "                   max(nums_sorted[-1], nums[-2], nums[-1]) - min(nums_sorted[0], nums[-2], nums[-1])\n",
    "                   )\n",
    "    # Return the minimum score\n",
    "    return  0"
   ]
  },
  {
   "cell_type": "code",
   "execution_count": 83,
   "metadata": {},
   "outputs": [],
   "source": [
    "def min_max(l, num1, num2):\n",
    "    return min(l[0], num1, num2), max(l[-1], num1, num2)\n",
    "        "
   ]
  },
  {
   "cell_type": "code",
   "execution_count": 95,
   "metadata": {},
   "outputs": [
    {
     "data": {
      "text/plain": [
       "3"
      ]
     },
     "execution_count": 95,
     "metadata": {},
     "output_type": "execute_result"
    }
   ],
   "source": [
    "2| 1"
   ]
  },
  {
   "cell_type": "code",
   "execution_count": 93,
   "metadata": {},
   "outputs": [],
   "source": [
    "def minimizeSum( nums):\n",
    "    num_sorted = sorted(set(nums))\n",
    "    print(num_sorted)\n",
    "    if len(num_sorted) >= 4:\n",
    "        return min(num_sorted[-2] - num_sorted[1], num_sorted[-3] - num_sorted[0], num_sorted[-1] - num_sorted[2])\n",
    "    # Return the minimum score\n",
    "    return  0"
   ]
  },
  {
   "cell_type": "code",
   "execution_count": 94,
   "metadata": {},
   "outputs": [
    {
     "name": "stdout",
     "output_type": "stream",
     "text": [
      "[5, 21, 23, 34, 40, 60, 76, 83, 99]\n"
     ]
    },
    {
     "data": {
      "text/plain": [
       "62"
      ]
     },
     "execution_count": 94,
     "metadata": {},
     "output_type": "execute_result"
    }
   ],
   "source": [
    "minimizeSum(nums)"
   ]
  },
  {
   "cell_type": "code",
   "execution_count": null,
   "metadata": {},
   "outputs": [],
   "source": []
  }
 ],
 "metadata": {
  "kernelspec": {
   "display_name": "base",
   "language": "python",
   "name": "python3"
  },
  "language_info": {
   "codemirror_mode": {
    "name": "ipython",
    "version": 3
   },
   "file_extension": ".py",
   "mimetype": "text/x-python",
   "name": "python",
   "nbconvert_exporter": "python",
   "pygments_lexer": "ipython3",
   "version": "3.9.12 (main, Apr  5 2022, 01:53:17) \n[Clang 12.0.0 ]"
  },
  "orig_nbformat": 4,
  "vscode": {
   "interpreter": {
    "hash": "1cc7f3e9408a3aea9cd6dc3e41c7a9aab8fbe83962c097cebbc31bdb6fbe3309"
   }
  }
 },
 "nbformat": 4,
 "nbformat_minor": 2
}
