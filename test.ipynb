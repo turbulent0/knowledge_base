{
 "cells": [
  {
   "attachments": {},
   "cell_type": "markdown",
   "metadata": {},
   "source": [
    "### Calc\n",
    "\n"
   ]
  },
  {
   "cell_type": "code",
   "execution_count": 4,
   "metadata": {},
   "outputs": [],
   "source": [
    "import collections"
   ]
  },
  {
   "cell_type": "code",
   "execution_count": 45,
   "metadata": {},
   "outputs": [
    {
     "data": {
      "text/plain": [
       "'c4'"
      ]
     },
     "execution_count": 45,
     "metadata": {},
     "output_type": "execute_result"
    }
   ],
   "source": [
    "input(\"Enter a string: \")"
   ]
  },
  {
   "cell_type": "code",
   "execution_count": 46,
   "metadata": {},
   "outputs": [],
   "source": [
    "x, y, board = *('abcdefgh87654321'.index(i) % 8 for i in input()), range(8)\n"
   ]
  },
  {
   "cell_type": "code",
   "execution_count": 63,
   "metadata": {},
   "outputs": [
    {
     "ename": "IndexError",
     "evalue": "pop index out of range",
     "output_type": "error",
     "traceback": [
      "\u001b[0;31m---------------------------------------------------------------------------\u001b[0m",
      "\u001b[0;31mIndexError\u001b[0m                                Traceback (most recent call last)",
      "Cell \u001b[0;32mIn [63], line 6\u001b[0m\n\u001b[1;32m      4\u001b[0m \u001b[39mwhile\u001b[39;00m \u001b[39mlen\u001b[39m(inp) \u001b[39m>\u001b[39m \u001b[39m1\u001b[39m:\n\u001b[1;32m      5\u001b[0m     \u001b[39mfor\u001b[39;00m i \u001b[39min\u001b[39;00m \u001b[39mrange\u001b[39m(\u001b[39m2\u001b[39m\u001b[39m-\u001b[39mrest, \u001b[39mlen\u001b[39m(inp), \u001b[39m3\u001b[39m):\n\u001b[0;32m----> 6\u001b[0m         inp\u001b[39m.\u001b[39;49mpop(i)\n\u001b[1;32m      7\u001b[0m     rest \u001b[39m=\u001b[39m \u001b[39mlen\u001b[39m(inp) \u001b[39m%\u001b[39m \u001b[39m3\u001b[39m\n",
      "\u001b[0;31mIndexError\u001b[0m: pop index out of range"
     ]
    }
   ],
   "source": [
    "inp =  list(range(20))\n",
    "k=2\n",
    "rest=0\n",
    "while len(inp) > 1:\n",
    "    for i in range(2-rest, len(inp), 3):\n",
    "        inp.pop(i)\n",
    "    rest = len(inp) % 3\n",
    "        \n",
    "        "
   ]
  },
  {
   "cell_type": "code",
   "execution_count": 64,
   "metadata": {},
   "outputs": [],
   "source": [
    "l = [1,2]"
   ]
  },
  {
   "cell_type": "code",
   "execution_count": 86,
   "metadata": {},
   "outputs": [
    {
     "data": {
      "text/plain": [
       "[16, 31]"
      ]
     },
     "execution_count": 86,
     "metadata": {},
     "output_type": "execute_result"
    }
   ],
   "source": [
    "def flavius_problem(n, k):\n",
    "    inp = list(range(1, n+1))\n",
    "    i = k-1\n",
    "    while len(inp) > 2:\n",
    "        inp.extend(inp[:i])\n",
    "        inp = inp[i+1:]\n",
    "    return inp\n",
    "flavius_problem(41,3)"
   ]
  },
  {
   "cell_type": "code",
   "execution_count": 83,
   "metadata": {},
   "outputs": [
    {
     "name": "stdout",
     "output_type": "stream",
     "text": [
      "1 1\n",
      "2 2\n",
      "3 1\n",
      "4 2\n",
      "5 2\n",
      "6 1\n",
      "7 6\n",
      "8 3\n",
      "9 8\n",
      "10 3\n",
      "11 8\n",
      "12 1\n",
      "13 6\n",
      "14 11\n",
      "15 1\n",
      "16 6\n",
      "17 11\n",
      "18 16\n",
      "19 2\n",
      "20 7\n",
      "21 12\n",
      "22 17\n",
      "23 22\n",
      "24 3\n",
      "25 8\n",
      "26 13\n",
      "27 18\n",
      "28 23\n",
      "29 28\n",
      "30 3\n",
      "31 8\n",
      "32 13\n",
      "33 18\n",
      "34 23\n",
      "35 28\n",
      "36 33\n",
      "37 1\n",
      "38 6\n",
      "39 11\n",
      "40 16\n",
      "41 21\n"
     ]
    }
   ],
   "source": [
    "k = 5\n",
    "n = 41\n",
    "last = 0\n",
    "for i in range(1, n + 1):\n",
    "    last = (last + k) % i\n",
    "    print(i, last+1)"
   ]
  },
  {
   "cell_type": "code",
   "execution_count": null,
   "metadata": {},
   "outputs": [],
   "source": []
  }
 ],
 "metadata": {
  "kernelspec": {
   "display_name": "Python 3",
   "language": "python",
   "name": "python3"
  },
  "language_info": {
   "codemirror_mode": {
    "name": "ipython",
    "version": 3
   },
   "file_extension": ".py",
   "mimetype": "text/x-python",
   "name": "python",
   "nbconvert_exporter": "python",
   "pygments_lexer": "ipython3",
   "version": "3.8.2"
  },
  "orig_nbformat": 4,
  "vscode": {
   "interpreter": {
    "hash": "31f2aee4e71d21fbe5cf8b01ff0e069b9275f58929596ceb00d14d90e3e16cd6"
   }
  }
 },
 "nbformat": 4,
 "nbformat_minor": 2
}
