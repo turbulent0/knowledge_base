{
 "cells": [
  {
   "attachments": {},
   "cell_type": "markdown",
   "metadata": {},
   "source": [
    "### Calc\n",
    "\n"
   ]
  },
  {
   "cell_type": "code",
   "execution_count": 29,
   "metadata": {},
   "outputs": [
    {
     "name": "stdout",
     "output_type": "stream",
     "text": [
      "default thread pool b'\\xf8\\x0e\\xc7\\xceyRY\\x9bv\\xf0P\\x0b\\xfcq ]#\\x13!VSr\\xc5B\\x99j.)G\\x92\\xd9\\x10\\x99\\xa5=Q0bY\\xef\\xd2\\x16\\xfd\\xbf\\xe4\\\\[Q2\\xda\\xa5\\xab\\xf3_1-\\x8e\\xab\\x85\\xc5O5wE\\xb9\\xe3w\\xe8+\\xbbV\\xbb*\\xd7L\\xf9`\\xee\\x16\\xcc\\x1c\\xc2W\\xa4\\xe0t\\x0b`\\xf9\\xc4q\\\\\\xeeK\\r<|\\x8eH\\xab'\n",
      "custom thread pool b'\\x94Fh!iS\\'\\xce\\xb7\\xb5}G\\xe5\\x1b\\x91V\\xf3\\x05VKN\\xf8\\x94.\\x15[\\\\\\xc0\\x8a\\xa7J\\x98\\x87\\x8e\\x80\\xc1b\\xb8O\\x0e\\xacOj\\x17\\xb4R\\xedU\\x0f\\x8f\\xc7R\\x07T\\x07\\x90\"2\\xd6\\xf6(\\xf0\\xe6\\xea\\x9b\\xd1j\\xfa\\xa9\\x97\\xd2* I|\\xc7c\\xd7\\xcc\\xde\\x8b\\x10q\\r\\xcd\\x14%~\\xc3o\\x13v\\xd3\\xc1\\xf5\\xeb\\xf0\\xc72\\xdc'\n"
     ]
    },
    {
     "name": "stderr",
     "output_type": "stream",
     "text": [
      "Process SpawnProcess-1:\n",
      "Traceback (most recent call last):\n",
      "  File \"/Users/maxymusenko/opt/miniconda3/lib/python3.9/multiprocessing/process.py\", line 315, in _bootstrap\n",
      "    self.run()\n",
      "  File \"/Users/maxymusenko/opt/miniconda3/lib/python3.9/multiprocessing/process.py\", line 108, in run\n",
      "    self._target(*self._args, **self._kwargs)\n",
      "  File \"/Users/maxymusenko/opt/miniconda3/lib/python3.9/concurrent/futures/process.py\", line 237, in _process_worker\n",
      "    call_item = call_queue.get(block=True)\n",
      "  File \"/Users/maxymusenko/opt/miniconda3/lib/python3.9/multiprocessing/queues.py\", line 122, in get\n",
      "    return _ForkingPickler.loads(res)\n",
      "AttributeError: Can't get attribute 'cpu_bound' on <module '__main__' (built-in)>\n"
     ]
    },
    {
     "ename": "BrokenProcessPool",
     "evalue": "A process in the process pool was terminated abruptly while the future was running or pending.",
     "output_type": "error",
     "traceback": [
      "\u001b[0;31m---------------------------------------------------------------------------\u001b[0m",
      "\u001b[0;31mBrokenProcessPool\u001b[0m                         Traceback (most recent call last)",
      "\u001b[1;32m/Users/maxymusenko/ML/courses/knowledge_base/test.ipynb Cell 2\u001b[0m in \u001b[0;36m<cell line: 38>\u001b[0;34m()\u001b[0m\n\u001b[1;32m     <a href='vscode-notebook-cell:/Users/maxymusenko/ML/courses/knowledge_base/test.ipynb#X10sZmlsZQ%3D%3D?line=33'>34</a>\u001b[0m         result \u001b[39m=\u001b[39m \u001b[39mawait\u001b[39;00m loop\u001b[39m.\u001b[39mrun_in_executor(\n\u001b[1;32m     <a href='vscode-notebook-cell:/Users/maxymusenko/ML/courses/knowledge_base/test.ipynb#X10sZmlsZQ%3D%3D?line=34'>35</a>\u001b[0m             pool, cpu_bound)\n\u001b[1;32m     <a href='vscode-notebook-cell:/Users/maxymusenko/ML/courses/knowledge_base/test.ipynb#X10sZmlsZQ%3D%3D?line=35'>36</a>\u001b[0m         \u001b[39mprint\u001b[39m(\u001b[39m'\u001b[39m\u001b[39mcustom process pool\u001b[39m\u001b[39m'\u001b[39m, result)\n\u001b[0;32m---> <a href='vscode-notebook-cell:/Users/maxymusenko/ML/courses/knowledge_base/test.ipynb#X10sZmlsZQ%3D%3D?line=37'>38</a>\u001b[0m \u001b[39mawait\u001b[39;00m main()\n",
      "\u001b[1;32m/Users/maxymusenko/ML/courses/knowledge_base/test.ipynb Cell 2\u001b[0m in \u001b[0;36mmain\u001b[0;34m()\u001b[0m\n\u001b[1;32m     <a href='vscode-notebook-cell:/Users/maxymusenko/ML/courses/knowledge_base/test.ipynb#X10sZmlsZQ%3D%3D?line=31'>32</a>\u001b[0m \u001b[39m# 3. Run in a custom process pool:\u001b[39;00m\n\u001b[1;32m     <a href='vscode-notebook-cell:/Users/maxymusenko/ML/courses/knowledge_base/test.ipynb#X10sZmlsZQ%3D%3D?line=32'>33</a>\u001b[0m \u001b[39mwith\u001b[39;00m concurrent\u001b[39m.\u001b[39mfutures\u001b[39m.\u001b[39mProcessPoolExecutor() \u001b[39mas\u001b[39;00m pool:\n\u001b[0;32m---> <a href='vscode-notebook-cell:/Users/maxymusenko/ML/courses/knowledge_base/test.ipynb#X10sZmlsZQ%3D%3D?line=33'>34</a>\u001b[0m     result \u001b[39m=\u001b[39m \u001b[39mawait\u001b[39;00m loop\u001b[39m.\u001b[39mrun_in_executor(\n\u001b[1;32m     <a href='vscode-notebook-cell:/Users/maxymusenko/ML/courses/knowledge_base/test.ipynb#X10sZmlsZQ%3D%3D?line=34'>35</a>\u001b[0m         pool, cpu_bound)\n\u001b[1;32m     <a href='vscode-notebook-cell:/Users/maxymusenko/ML/courses/knowledge_base/test.ipynb#X10sZmlsZQ%3D%3D?line=35'>36</a>\u001b[0m     \u001b[39mprint\u001b[39m(\u001b[39m'\u001b[39m\u001b[39mcustom process pool\u001b[39m\u001b[39m'\u001b[39m, result)\n",
      "\u001b[0;31mBrokenProcessPool\u001b[0m: A process in the process pool was terminated abruptly while the future was running or pending."
     ]
    }
   ],
   "source": [
    "import asyncio\n",
    "import concurrent.futures\n",
    "\n",
    "def blocking_io():\n",
    "    # File operations (such as logging) can block the\n",
    "    # event loop: run them in a thread pool.\n",
    "    with open('/dev/urandom', 'rb') as f:\n",
    "        return f.read(100)\n",
    "\n",
    "def cpu_bound():\n",
    "    # CPU-bound operations will block the event loop:\n",
    "    # in general it is preferable to run them in a\n",
    "    # process pool.\n",
    "    return sum(i * i for i in range(10 ** 7))\n",
    "\n",
    "async def main():\n",
    "    loop = asyncio.get_running_loop()\n",
    "\n",
    "    ## Options:\n",
    "\n",
    "    # 1. Run in the default loop's executor:\n",
    "    result = await loop.run_in_executor(\n",
    "        None, blocking_io)\n",
    "    print('default thread pool', result)\n",
    "\n",
    "    # 2. Run in a custom thread pool:\n",
    "    with concurrent.futures.ThreadPoolExecutor() as pool:\n",
    "        result = await loop.run_in_executor(\n",
    "            pool, blocking_io)\n",
    "        print('custom thread pool', result)\n",
    "\n",
    "    # # 3. Run in a custom process pool:\n",
    "    # with concurrent.futures.ProcessPoolExecutor() as pool:\n",
    "    #     result = await loop.run_in_executor(\n",
    "    #         pool, cpu_bound)\n",
    "    #     print('custom process pool', result)\n",
    "\n",
    "await main()\n"
   ]
  },
  {
   "cell_type": "code",
   "execution_count": null,
   "metadata": {},
   "outputs": [],
   "source": []
  }
 ],
 "metadata": {
  "kernelspec": {
   "display_name": "base",
   "language": "python",
   "name": "python3"
  },
  "language_info": {
   "codemirror_mode": {
    "name": "ipython",
    "version": 3
   },
   "file_extension": ".py",
   "mimetype": "text/x-python",
   "name": "python",
   "nbconvert_exporter": "python",
   "pygments_lexer": "ipython3",
   "version": "3.9.12"
  },
  "orig_nbformat": 4,
  "vscode": {
   "interpreter": {
    "hash": "1cc7f3e9408a3aea9cd6dc3e41c7a9aab8fbe83962c097cebbc31bdb6fbe3309"
   }
  }
 },
 "nbformat": 4,
 "nbformat_minor": 2
}
