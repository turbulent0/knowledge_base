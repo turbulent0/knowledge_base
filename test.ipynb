{
 "cells": [
  {
   "attachments": {},
   "cell_type": "markdown",
   "metadata": {},
   "source": [
    "### Calc\n",
    "\n"
   ]
  },
  {
   "cell_type": "code",
   "execution_count": 2,
   "metadata": {},
   "outputs": [],
   "source": [
    "import asyncio\n",
    "import concurrent.futures\n",
    "def blocking_io():\n",
    "    # File operations (such as logging) can block the\n",
    "    # event loop: run them in a thread pool.\n",
    "    with open('/dev/urandom', 'rb') as f:\n",
    "        return f.read(100)\n",
    "\n",
    "def cpu_bound():\n",
    "    # CPU-bound operations will block the event loop:\n",
    "    # in general it is preferable to run them in a\n",
    "    # process pool.\n",
    "    return sum(i * i for i in range(10 ** 7))"
   ]
  },
  {
   "cell_type": "code",
   "execution_count": 4,
   "metadata": {},
   "outputs": [
    {
     "name": "stdout",
     "output_type": "stream",
     "text": [
      "test\n"
     ]
    },
    {
     "name": "stdout",
     "output_type": "stream",
     "text": [
      "Future: <Future finished result='... world'>\n"
     ]
    }
   ],
   "source": [
    "import functools\n",
    "async def callee(fut, word):\n",
    "    await asyncio.sleep(4)\n",
    "    fut.set_result(word)\n",
    "\n",
    "async def caller():\n",
    "    loop = asyncio.get_running_loop()\n",
    "    # Create a new Future object.\n",
    "    fut = loop.create_future()\n",
    "    loop.create_task(callee(fut, '... world'))\n",
    "    fut.add_done_callback(functools.partial(print, \"Future:\"))\n",
    "    print('test')\n",
    "\n",
    "await caller() # for jupyter notebook, becouse loop is already running in jupyter\n",
    "# asyncio.run(main()) # for py file"
   ]
  },
  {
   "cell_type": "code",
   "execution_count": 6,
   "metadata": {},
   "outputs": [
    {
     "ename": "TypeError",
     "evalue": "an integer is required (got type str)",
     "output_type": "error",
     "traceback": [
      "\u001b[0;31m---------------------------------------------------------------------------\u001b[0m",
      "\u001b[0;31mTypeError\u001b[0m                                 Traceback (most recent call last)",
      "\u001b[1;32m/Users/maxymusenko/ML/courses/knowledge_base/test.ipynb Cell 4\u001b[0m in \u001b[0;36m<cell line: 1>\u001b[0;34m()\u001b[0m\n\u001b[0;32m----> <a href='vscode-notebook-cell:/Users/maxymusenko/ML/courses/knowledge_base/test.ipynb#X11sZmlsZQ%3D%3D?line=0'>1</a>\u001b[0m \u001b[39mchr\u001b[39;49m(\u001b[39m'\u001b[39;49m\u001b[39m253\u001b[39;49m\u001b[39m'\u001b[39;49m)\n",
      "\u001b[0;31mTypeError\u001b[0m: an integer is required (got type str)"
     ]
    }
   ],
   "source": [
    "chr('253')"
   ]
  },
  {
   "cell_type": "code",
   "execution_count": 8,
   "metadata": {},
   "outputs": [
    {
     "data": {
      "text/plain": [
       "[[7, 5, 11, 2], [10, 6, 9, 1], [4, 8, 3, 15]]"
      ]
     },
     "execution_count": 8,
     "metadata": {},
     "output_type": "execute_result"
    }
   ],
   "source": [
    "l = [[10,6,9,1],[7,5,11,2],[4,8,3,15]]\n",
    "sorted(l, key=lambda x: x[2], reverse=True)"
   ]
  },
  {
   "cell_type": "code",
   "execution_count": 9,
   "metadata": {},
   "outputs": [],
   "source": [
    "class RealString:\n",
    "    def __init__(self, some_str):\n",
    "        self.some_str = str(some_str)\n",
    "\n",
    "\n",
    "    def __lt__(self, other):\n",
    "        if not isinstance(other, RealString):\n",
    "            other = RealString(other)\n",
    "        return len(self.some_str) < len(other.some_str)\n",
    "\n",
    "    def __le__(self, other):\n",
    "        return len(self.some_str) == len(other.some_str) or len(self.some_str) < len(other.some_str)\n"
   ]
  },
  {
   "cell_type": "code",
   "execution_count": 3,
   "metadata": {},
   "outputs": [
    {
     "data": {
      "text/plain": [
       "23"
      ]
     },
     "execution_count": 3,
     "metadata": {},
     "output_type": "execute_result"
    }
   ],
   "source": [
    "int('0023')def shft_hist(df):\n",
    "    df_copy = df.copy()\n",
    "    features= []\n",
    "    window = int(df.DaysToPredict.iloc[0])\n",
    "    for fs, func in [('QtyOrder', 'mean()'), ('QtyOrder', 'std()'), ('y_corr_stock', 'mean()'), ('y_corr_stock', 'std()'), \n",
    "                     ('Price', 'mean()'), ('PurPrice', 'mean()'), ('min_day_stock', 'mean()'), ('zstock', 'sum()')]:\n",
    "        temp = eval(f\"df.{fs}.rolling({window}, min_periods={window}//2).{func}\")\n",
    "        features.append(temp)\n",
    "    df = pd.concat(features, axis=1)\n",
    "    df.columns = ['y_prev_mean', 'y_prev_std', 'y_corr_prev_mean', 'y_corr_prev_std', \n",
    "                                    'price_prev', 'purprice_prev', 'min_day_stock_prev', 'prev_zstock_days']\n",
    "    # sales and stocks two days before order\n",
    "    df.loc[:, ['OrderDate',  'Warehouse', 'Supplier', 'Sku', 'DaysToPredict','DaysBeforePredict', 'model_flag', 'day_of_week', 'OrderWeek']] =  df_copy[['OrderDate',  'Warehouse', 'Supplier', 'Sku', 'DaysToPredict','DaysBeforePredict', 'model_flag', 'day_of_week', 'OrderWeek']]\n",
    "    # all records for better score\n",
    "    # not   return df[::window] - for real orders\n",
    "    return df\n",
    "\n",
    "df_agg2 = pd.concat([shft_hist(df_i) for _, df_i in df.groupby(['Warehouse', 'Supplier', 'Sku', 'model_flag'])], axis=0)"
   ]
  },
  {
   "cell_type": "code",
   "execution_count": 3,
   "metadata": {},
   "outputs": [],
   "source": [
    "from pandas.api.indexers import BaseIndexer\n",
    "c = BaseIndexer()\n"
   ]
  },
  {
   "cell_type": "code",
   "execution_count": null,
   "metadata": {},
   "outputs": [],
   "source": [
    "c.get_window_bounds()"
   ]
  },
  {
   "cell_type": "code",
   "execution_count": null,
   "metadata": {},
   "outputs": [],
   "source": [
    "c.expendwhen"
   ]
  },
  {
   "cell_type": "code",
   "execution_count": 15,
   "metadata": {},
   "outputs": [],
   "source": [
    "class Solution(object):\n",
    "    def find_num(self, d, str_num):\n",
    "        for i, n in enumerate(str_num):\n",
    "            if n != d and not max_n:\n",
    "                max_n = str_num[i]\n",
    "            if n == max_n:\n",
    "                str_num[i] = d\n",
    "        return str_num    \n",
    "        \n",
    "    def minMaxDifference(self, num):\n",
    "        \"\"\"\n",
    "        :type num: int\n",
    "        :rtype: int\n",
    "        \"\"\"\n",
    "        max_n = None\n",
    "        min_n = None\n",
    "        str_num_max  = list(str(num))\n",
    "        str_num_min = list(str(num))\n",
    "        for i, n in enumerate(str_num_max):\n",
    "            if n != '9' and not max_n:\n",
    "                max_n = str_num_max[i]\n",
    "            if n == max_n:\n",
    "                str_num_max[i] = '9'\n",
    "            if n != '0' and not min_n:\n",
    "                min_n = str_num_min[i]\n",
    "            if n == min_n:\n",
    "                str_num_min[i] = '0'            \n",
    "        \n",
    "        return int(''.join(str_num_max)) - int(''.join(str_num_min))"
   ]
  },
  {
   "cell_type": "code",
   "execution_count": 18,
   "metadata": {},
   "outputs": [
    {
     "data": {
      "text/plain": [
       "[1, 2, 4]"
      ]
     },
     "execution_count": 18,
     "metadata": {},
     "output_type": "execute_result"
    }
   ],
   "source": [
    "sorted([1,2,4])"
   ]
  },
  {
   "cell_type": "code",
   "execution_count": 19,
   "metadata": {},
   "outputs": [
    {
     "data": {
      "text/plain": [
       "4"
      ]
     },
     "execution_count": 19,
     "metadata": {},
     "output_type": "execute_result"
    }
   ],
   "source": [
    "max(2,3,4)"
   ]
  },
  {
   "cell_type": "code",
   "execution_count": 91,
   "metadata": {},
   "outputs": [
    {
     "data": {
      "text/plain": [
       "[40, 60, 23, 83, 5, 21, 76, 34, 99]"
      ]
     },
     "execution_count": 91,
     "metadata": {},
     "output_type": "execute_result"
    }
   ],
   "source": [
    "[ j for i, j in enumerate(nums) if j not in nums[i+1:]]"
   ]
  },
  {
   "cell_type": "code",
   "execution_count": 87,
   "metadata": {},
   "outputs": [],
   "source": [
    "\n",
    "nums = [40,60,23,99,83,5,21,76,34,99]\n",
    "\n",
    "def minimizeSum(nums):\n",
    "    nums_sorted = sorted(nums[2:-2])  \n",
    "    print(nums_sorted) \n",
    "    if len(nums_sorted) >= 4:\n",
    "        return min(max(nums_sorted[-1], nums[1], nums[-2]) - min(nums_sorted[0], nums[1], nums[-2]), \n",
    "                   max(nums_sorted[-1], nums[0], nums[1]) - min(nums_sorted[0], nums[0], nums[1]),\n",
    "                   max(nums_sorted[-1], nums[-2], nums[-1]) - min(nums_sorted[0], nums[-2], nums[-1])\n",
    "                   )\n",
    "    # Return the minimum score\n",
    "    return  0"
   ]
  },
  {
   "cell_type": "code",
   "execution_count": 83,
   "metadata": {},
   "outputs": [],
   "source": [
    "def min_max(l, num1, num2):\n",
    "    return min(l[0], num1, num2), max(l[-1], num1, num2)\n",
    "        "
   ]
  },
  {
   "cell_type": "code",
   "execution_count": 95,
   "metadata": {},
   "outputs": [
    {
     "data": {
      "text/plain": [
       "3"
      ]
     },
     "execution_count": 95,
     "metadata": {},
     "output_type": "execute_result"
    }
   ],
   "source": [
    "2| 1"
   ]
  },
  {
   "cell_type": "code",
   "execution_count": 93,
   "metadata": {},
   "outputs": [],
   "source": [
    "def minimizeSum( nums):\n",
    "    num_sorted = sorted(set(nums))\n",
    "    print(num_sorted)\n",
    "    if len(num_sorted) >= 4:\n",
    "        return min(num_sorted[-2] - num_sorted[1], num_sorted[-3] - num_sorted[0], num_sorted[-1] - num_sorted[2])\n",
    "    # Return the minimum score\n",
    "    return  0"
   ]
  },
  {
   "cell_type": "code",
   "execution_count": 94,
   "metadata": {},
   "outputs": [
    {
     "name": "stdout",
     "output_type": "stream",
     "text": [
      "[5, 21, 23, 34, 40, 60, 76, 83, 99]\n"
     ]
    },
    {
     "data": {
      "text/plain": [
       "62"
      ]
     },
     "execution_count": 94,
     "metadata": {},
     "output_type": "execute_result"
    }
   ],
   "source": [
    "minimizeSum(nums)"
   ]
  },
  {
   "cell_type": "code",
   "execution_count": 1,
   "metadata": {},
   "outputs": [],
   "source": [
    "import pandas as pd\n",
    "import numpy as np\n",
    "df = pd.DataFrame(\n",
    "    {\n",
    "        \"a\": np.random.randn(1000000),\n",
    "        \"b\": np.random.randn(1000000),\n",
    "        \"N\": np.random.randint(100, 1000, (1000000)),\n",
    "        \"x\": \"x\",\n",
    "    }\n",
    ")\n"
   ]
  },
  {
   "cell_type": "code",
   "execution_count": 14,
   "metadata": {},
   "outputs": [
    {
     "name": "stdout",
     "output_type": "stream",
     "text": [
      "The Cython extension is already loaded. To reload it, use:\n",
      "  %reload_ext Cython\n"
     ]
    }
   ],
   "source": [
    "%load_ext Cython"
   ]
  },
  {
   "cell_type": "code",
   "execution_count": 35,
   "metadata": {},
   "outputs": [],
   "source": [
    "\n",
    "%%cython\n",
    "cimport numpy as np\n",
    "import numpy as np\n",
    "cdef double f_typed(double x) except? -2:\n",
    "    return x * (x - 1)\n",
    "cpdef double integrate_f_typed(double a, double b, int N):\n",
    "    cdef int i\n",
    "    cdef double s, dx\n",
    "    s = 0\n",
    "    dx = (b - a) / N\n",
    "    for i in range(N):\n",
    "        s += f_typed(a + i * dx)\n",
    "    return s * dx\n",
    "cpdef np.ndarray[double] apply_integrate_f(np.ndarray col_a, np.ndarray col_b,\n",
    "                                        np.ndarray col_N):\n",
    "    assert (col_a.dtype == np.float_\n",
    "            and col_b.dtype == np.float_ and col_N.dtype == np.int_)\n",
    "    cdef Py_ssize_t i, n = len(col_N)\n",
    "    assert (len(col_a) == len(col_b) == n)\n",
    "    cdef np.ndarray[double] res = np.empty(n)\n",
    "    for i in range(len(col_a)):\n",
    "        res[i] = integrate_f_typed(col_a[i], col_b[i], col_N[i])\n",
    "    return res\n"
   ]
  },
  {
   "cell_type": "code",
   "execution_count": 36,
   "metadata": {},
   "outputs": [
    {
     "name": "stdout",
     "output_type": "stream",
     "text": [
      "CPU times: user 1.1 s, sys: 9.93 ms, total: 1.11 s\n",
      "Wall time: 1.14 s\n"
     ]
    },
    {
     "data": {
      "text/plain": [
       "array([-1.43173557e+01,  5.22313786e-02,  4.65367218e+00, ...,\n",
       "       -1.90718578e+00,  3.36831032e+00, -8.62163491e-03])"
      ]
     },
     "execution_count": 36,
     "metadata": {},
     "output_type": "execute_result"
    }
   ],
   "source": [
    "%%time\n",
    "apply_integrate_f(df[\"a\"].to_numpy(), df[\"b\"].to_numpy(), df[\"N\"].to_numpy())"
   ]
  },
  {
   "cell_type": "code",
   "execution_count": 2,
   "metadata": {},
   "outputs": [
    {
     "name": "stderr",
     "output_type": "stream",
     "text": [
      "/var/folders/bv/48h56qln3rb_qzx76dfxq6v00000gn/T/ipykernel_55506/16061436.py:5: NumbaDeprecationWarning: The 'nopython' keyword argument was not supplied to the 'numba.jit' decorator. The implicit default value for this argument is currently False, but it will be changed to True in Numba 0.59.0. See https://numba.readthedocs.io/en/stable/reference/deprecation.html#deprecation-of-object-mode-fall-back-behaviour-when-using-jit for details.\n",
      "  def f_plain(x):\n",
      "/var/folders/bv/48h56qln3rb_qzx76dfxq6v00000gn/T/ipykernel_55506/16061436.py:10: NumbaDeprecationWarning: The 'nopython' keyword argument was not supplied to the 'numba.jit' decorator. The implicit default value for this argument is currently False, but it will be changed to True in Numba 0.59.0. See https://numba.readthedocs.io/en/stable/reference/deprecation.html#deprecation-of-object-mode-fall-back-behaviour-when-using-jit for details.\n",
      "  def integrate_f_numba(a, b, N):\n",
      "/var/folders/bv/48h56qln3rb_qzx76dfxq6v00000gn/T/ipykernel_55506/16061436.py:19: NumbaDeprecationWarning: The 'nopython' keyword argument was not supplied to the 'numba.jit' decorator. The implicit default value for this argument is currently False, but it will be changed to True in Numba 0.59.0. See https://numba.readthedocs.io/en/stable/reference/deprecation.html#deprecation-of-object-mode-fall-back-behaviour-when-using-jit for details.\n",
      "  def apply_integrate_f_numba(col_a, col_b, col_N):\n"
     ]
    }
   ],
   "source": [
    "import numba\n",
    "\n",
    "\n",
    "@numba.jit\n",
    "def f_plain(x):\n",
    "    return x * (x - 1)\n",
    "\n",
    "\n",
    "@numba.jit\n",
    "def integrate_f_numba(a, b, N):\n",
    "    s = 0\n",
    "    dx = (b - a) / N\n",
    "    for i in range(N):\n",
    "        s += f_plain(a + i * dx)\n",
    "    return s * dx\n",
    "\n",
    "\n",
    "@numba.jit\n",
    "def apply_integrate_f_numba(col_a, col_b, col_N):\n",
    "    n = len(col_N)\n",
    "    result = np.empty(n, dtype=\"float64\")\n",
    "    assert len(col_a) == len(col_b) == n\n",
    "    for i in range(n):\n",
    "        result[i] = integrate_f_numba(col_a[i], col_b[i], col_N[i])\n",
    "    return result\n",
    "\n",
    "\n",
    "def compute_numba(df):\n",
    "    result = apply_integrate_f_numba(\n",
    "        df[\"a\"].to_numpy(), df[\"b\"].to_numpy(), df[\"N\"].to_numpy()\n",
    "    )\n",
    "    return pd.Series(result, index=df.index, name=\"result\")"
   ]
  },
  {
   "cell_type": "code",
   "execution_count": 3,
   "metadata": {},
   "outputs": [
    {
     "name": "stdout",
     "output_type": "stream",
     "text": [
      "CPU times: user 1.61 s, sys: 109 ms, total: 1.72 s\n",
      "Wall time: 1.59 s\n"
     ]
    },
    {
     "data": {
      "text/plain": [
       "0   -1.240505\n",
       "1   -0.150978\n",
       "2    0.313684\n",
       "3   -0.019437\n",
       "4    0.123363\n",
       "5   -0.029058\n",
       "6   -0.258614\n",
       "7   -0.118875\n",
       "8   -1.702112\n",
       "9   -0.168615\n",
       "Name: result, dtype: float64"
      ]
     },
     "execution_count": 3,
     "metadata": {},
     "output_type": "execute_result"
    }
   ],
   "source": [
    "%%time\n",
    "compute_numba(df)[:10]"
   ]
  },
  {
   "cell_type": "code",
   "execution_count": null,
   "metadata": {},
   "outputs": [],
   "source": []
  }
 ],
 "metadata": {
  "kernelspec": {
   "display_name": "base",
   "language": "python",
   "name": "python3"
  },
  "language_info": {
   "codemirror_mode": {
    "name": "ipython",
    "version": 3
   },
   "file_extension": ".py",
   "mimetype": "text/x-python",
   "name": "python",
   "nbconvert_exporter": "python",
   "pygments_lexer": "ipython3",
   "version": "3.8.13"
  },
  "orig_nbformat": 4,
  "vscode": {
   "interpreter": {
    "hash": "1cc7f3e9408a3aea9cd6dc3e41c7a9aab8fbe83962c097cebbc31bdb6fbe3309"
   }
  }
 },
 "nbformat": 4,
 "nbformat_minor": 2
}
