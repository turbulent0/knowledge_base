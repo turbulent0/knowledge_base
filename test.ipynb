{
 "cells": [
  {
   "attachments": {},
   "cell_type": "markdown",
   "metadata": {},
   "source": [
    "### Calc\n",
    "\n"
   ]
  },
  {
   "cell_type": "code",
   "execution_count": 13,
   "metadata": {},
   "outputs": [],
   "source": [
    "from dis import dis"
   ]
  },
  {
   "cell_type": "code",
   "execution_count": 24,
   "metadata": {},
   "outputs": [],
   "source": [
    "def f():\n",
    "    []"
   ]
  },
  {
   "cell_type": "code",
   "execution_count": 21,
   "metadata": {},
   "outputs": [],
   "source": [
    "def f2():\n",
    "    list()"
   ]
  },
  {
   "cell_type": "code",
   "execution_count": 25,
   "metadata": {},
   "outputs": [
    {
     "name": "stdout",
     "output_type": "stream",
     "text": [
      "  2           0 BUILD_LIST               0\n",
      "              2 POP_TOP\n",
      "              4 LOAD_CONST               0 (None)\n",
      "              6 RETURN_VALUE\n"
     ]
    }
   ],
   "source": [
    "dis(f)"
   ]
  },
  {
   "cell_type": "code",
   "execution_count": 23,
   "metadata": {},
   "outputs": [
    {
     "name": "stdout",
     "output_type": "stream",
     "text": [
      "  2           0 LOAD_GLOBAL              0 (list)\n",
      "              2 CALL_FUNCTION            0\n",
      "              4 POP_TOP\n",
      "              6 LOAD_CONST               0 (None)\n",
      "              8 RETURN_VALUE\n"
     ]
    }
   ],
   "source": [
    "dis(f2)"
   ]
  },
  {
   "cell_type": "code",
   "execution_count": 2,
   "metadata": {},
   "outputs": [],
   "source": [
    "import asyncio\n",
    "import concurrent.futures\n",
    "def blocking_io():\n",
    "    # File operations (such as logging) can block the\n",
    "    # event loop: run them in a thread pool.\n",
    "    with open('/dev/urandom', 'rb') as f:\n",
    "        return f.read(100)\n",
    "\n",
    "def cpu_bound():\n",
    "    # CPU-bound operations will block the event loop:\n",
    "    # in general it is preferable to run them in a\n",
    "    # process pool.\n",
    "    return sum(i * i for i in range(10 ** 7))"
   ]
  },
  {
   "cell_type": "code",
   "execution_count": 4,
   "metadata": {},
   "outputs": [
    {
     "name": "stdout",
     "output_type": "stream",
     "text": [
      "test\n"
     ]
    },
    {
     "name": "stdout",
     "output_type": "stream",
     "text": [
      "Future: <Future finished result='... world'>\n"
     ]
    }
   ],
   "source": [
    "import functools\n",
    "async def callee(fut, word):\n",
    "    await asyncio.sleep(4)\n",
    "    fut.set_result(word)\n",
    "\n",
    "async def caller():\n",
    "    loop = asyncio.get_running_loop()\n",
    "    # Create a new Future object.\n",
    "    fut = loop.create_future()\n",
    "    loop.create_task(callee(fut, '... world'))\n",
    "    fut.add_done_callback(functools.partial(print, \"Future:\"))\n",
    "    print('test')\n",
    "\n",
    "await caller() # for jupyter notebook, becouse loop is already running in jupyter\n",
    "# asyncio.run(main()) # for py file"
   ]
  },
  {
   "cell_type": "code",
   "execution_count": 13,
   "metadata": {},
   "outputs": [],
   "source": [
    "a  = [1,2,3]\n",
    "b = copy(a)"
   ]
  },
  {
   "cell_type": "code",
   "execution_count": 14,
   "metadata": {},
   "outputs": [],
   "source": [
    "from copy import copy, deepcopy"
   ]
  },
  {
   "cell_type": "code",
   "execution_count": 26,
   "metadata": {},
   "outputs": [
    {
     "name": "stdout",
     "output_type": "stream",
     "text": [
      "Shortest distances from node A:\n",
      "Node: A Distance: 0\n",
      "Node: B Distance: 2\n",
      "Node: C Distance: 3\n",
      "Node: D Distance: 6\n",
      "Node: E Distance: 7\n",
      "Node: F Distance: 9\n",
      "Node: G Distance: 13\n",
      "Node: H Distance: 16\n"
     ]
    }
   ],
   "source": [
    "import heapq\n",
    "\n",
    "\n",
    "def dijkstra(graph, start):\n",
    "    distances = {node: float('inf') for node in graph}\n",
    "    distances[start] = 0\n",
    "\n",
    "    queue = [(0, start)]\n",
    "\n",
    "    while queue:\n",
    "        current_distance, current_node = heapq.heappop(queue)\n",
    "\n",
    "        if current_distance > distances[current_node]:\n",
    "            continue\n",
    "\n",
    "        for neighbor, weight in graph[current_node].items():\n",
    "            distance = current_distance + weight\n",
    "\n",
    "            if distance < distances[neighbor]:\n",
    "                distances[neighbor] = distance\n",
    "                heapq.heappush(queue, (distance, neighbor))\n",
    "\n",
    "    return distances\n",
    "\n",
    "\n",
    "# Example usage:\n",
    "\n",
    "# Create a graph\n",
    "graph = {\n",
    "    'A': {'B': 2, 'C': 3},\n",
    "    'B': {'D': 4, 'E': 5},\n",
    "    'C': {'F': 6},\n",
    "    'D': {'G': 7},\n",
    "    'E': {'G': 8, 'H': 9},\n",
    "    'F': {'H': 10},\n",
    "    'G': {},\n",
    "    'H': {}\n",
    "}\n",
    "\n",
    "start_node = 'A'\n",
    "distances = dijkstra(graph, start_node)\n",
    "\n",
    "print(\"Shortest distances from node\", start_node + \":\")\n",
    "for node, distance in distances.items():\n",
    "    print(\"Node:\", node, \"Distance:\", distance)\n"
   ]
  },
  {
   "cell_type": "code",
   "execution_count": 27,
   "metadata": {},
   "outputs": [
    {
     "data": {
      "text/plain": [
       "(0, 'A')"
      ]
     },
     "execution_count": 27,
     "metadata": {},
     "output_type": "execute_result"
    }
   ],
   "source": [
    "graph = {\n",
    "    'A': {'B': 2, 'C': 3},\n",
    "    'B': {'D': 4, 'E': 5},\n",
    "    'C': {'F': 6},\n",
    "    'D': {'G': 7},\n",
    "    'E': {'G': 8, 'H': 9},\n",
    "    'F': {'H': 10},\n",
    "    'G': {},\n",
    "    'H': {}\n",
    "}\n",
    "start = 'A'\n",
    "distances = {node: float('inf') for node in graph}\n",
    "distances[start] = 0\n",
    "\n",
    "queue = [(0, start)]\n",
    "\n",
    "heapq.heappop(queue)\n"
   ]
  },
  {
   "cell_type": "code",
   "execution_count": 4,
   "metadata": {},
   "outputs": [
    {
     "data": {
      "text/plain": [
       "0.34657359027997264"
      ]
     },
     "execution_count": 4,
     "metadata": {},
     "output_type": "execute_result"
    }
   ],
   "source": [
    "0.5 * np.log(2) "
   ]
  },
  {
   "cell_type": "code",
   "execution_count": 1,
   "metadata": {},
   "outputs": [],
   "source": [
    "import numpy as np"
   ]
  },
  {
   "cell_type": "code",
   "execution_count": 2,
   "metadata": {},
   "outputs": [
    {
     "data": {
      "text/plain": [
       "array([[ 1,  2],\n",
       "       [ 7,  8],\n",
       "       [13, 14],\n",
       "       [19, 20]])"
      ]
     },
     "execution_count": 2,
     "metadata": {},
     "output_type": "execute_result"
    }
   ],
   "source": [
    "from numpy.lib.stride_tricks import as_strided\n",
    "x = np.asarray(range(1,26), np.int64).reshape(5,5)\n",
    "as_strided(x, shape=(4,2), strides=(48,8))\n",
    "\n"
   ]
  },
  {
   "cell_type": "code",
   "execution_count": null,
   "metadata": {},
   "outputs": [],
   "source": []
  }
 ],
 "metadata": {
  "kernelspec": {
   "display_name": "base",
   "language": "python",
   "name": "python3"
  },
  "language_info": {
   "codemirror_mode": {
    "name": "ipython",
    "version": 3
   },
   "file_extension": ".py",
   "mimetype": "text/x-python",
   "name": "python",
   "nbconvert_exporter": "python",
   "pygments_lexer": "ipython3",
   "version": "3.8.13"
  },
  "orig_nbformat": 4,
  "vscode": {
   "interpreter": {
    "hash": "1cc7f3e9408a3aea9cd6dc3e41c7a9aab8fbe83962c097cebbc31bdb6fbe3309"
   }
  }
 },
 "nbformat": 4,
 "nbformat_minor": 2
}
